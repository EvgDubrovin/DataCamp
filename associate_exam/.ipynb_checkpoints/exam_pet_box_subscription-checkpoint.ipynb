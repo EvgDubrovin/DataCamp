{
 "cells": [
  {
   "cell_type": "markdown",
   "id": "227764bf",
   "metadata": {},
   "source": [
    "# Practical Exam - Pet Box Subscription"
   ]
  },
  {
   "cell_type": "markdown",
   "id": "331ec64b",
   "metadata": {},
   "source": [
    "## Company Background\n",
    "PetMind is a nationwide pet product retailer in the United States. With inflation hitting 41-year highs, the company is planning to reduce the cost of customer retention by improving brand loyalty. The first strategy is to launch a monthly pet box subscription in three months.\n",
    "\n",
    "The marketing team is preparing a list of popular products for the pet box subscription. The chief marketing officer wants to know whether the list should only include the products being purchased more than once."
   ]
  },
  {
   "cell_type": "markdown",
   "id": "a699210c",
   "metadata": {},
   "source": [
    "## Customer Questions\n",
    "The marketing team would like to answer the following questions to help with the decision:\n",
    "* How many products are being purchased more than once?\n",
    "* Do the products being purchased again have better sales than others?\n",
    "* What products are more likely to be purchased again for different types of pets?"
   ]
  },
  {
   "cell_type": "markdown",
   "id": "37d17405",
   "metadata": {},
   "source": [
    "## Dataset Description\n",
    "The dataset needs to be validated based on the description below:\n",
    "***Product ID*** - Character, the unique identifier of the product.\n",
    "\n",
    "***Product Category*** - Character, the category of the product, one of 11 categories.\n",
    "\n",
    "***Sales*** - Numeric, the sales of the product in dollars last year. For example, “$120,000” should be converted into 120000.\n",
    "\n",
    "***Price*** - Numeric, the price of the product in dollars.\n",
    "\n",
    "***Vendor ID*** - Character, the unique identifier of the vendor for the product.\n",
    "\n",
    "***Pet Size*** - Character, the pet size category the product is designed for, one of 5 size categories.\n",
    "\n",
    "***Pet Type*** - Character, the pet type the product is designed for, one of “cat” ,“dog”, “fish”, “bird”. Rows that indicate other pet types should not be included in the analysis.\n",
    "\n",
    "***Rating*** - Numeric, customer’s rating of the product (should be on a 10 point scale)\n",
    "\n",
    "***Rebuy*** - Binary, whether the product is purchased more than once or not (should be 1 or 0)"
   ]
  },
  {
   "cell_type": "code",
   "execution_count": 1,
   "id": "37dc9b12",
   "metadata": {},
   "outputs": [],
   "source": [
    "# Import libraries\n",
    "import pandas as pd\n",
    "import numpy as np\n",
    "from scipy import stats\n",
    "\n",
    "%matplotlib inline\n",
    "import matplotlib.pyplot as plt\n",
    "import seaborn as sns\n",
    "\n",
    "sns.set(rc={\"figure.figsize\":(12, 6)}) "
   ]
  },
  {
   "cell_type": "code",
   "execution_count": 2,
   "id": "e74191e4",
   "metadata": {},
   "outputs": [],
   "source": [
    "# Upload the data\n",
    "pet_sales = pd.read_csv('pet_sales.csv')"
   ]
  },
  {
   "cell_type": "code",
   "execution_count": 3,
   "id": "be5ed795",
   "metadata": {
    "scrolled": true
   },
   "outputs": [
    {
     "data": {
      "text/html": [
       "<div>\n",
       "<style scoped>\n",
       "    .dataframe tbody tr th:only-of-type {\n",
       "        vertical-align: middle;\n",
       "    }\n",
       "\n",
       "    .dataframe tbody tr th {\n",
       "        vertical-align: top;\n",
       "    }\n",
       "\n",
       "    .dataframe thead th {\n",
       "        text-align: right;\n",
       "    }\n",
       "</style>\n",
       "<table border=\"1\" class=\"dataframe\">\n",
       "  <thead>\n",
       "    <tr style=\"text-align: right;\">\n",
       "      <th></th>\n",
       "      <th>product_id</th>\n",
       "      <th>product_category</th>\n",
       "      <th>sales</th>\n",
       "      <th>price</th>\n",
       "      <th>vendor_id</th>\n",
       "      <th>pet_size</th>\n",
       "      <th>pet_type</th>\n",
       "      <th>rating</th>\n",
       "      <th>re_buy</th>\n",
       "    </tr>\n",
       "  </thead>\n",
       "  <tbody>\n",
       "    <tr>\n",
       "      <th>0</th>\n",
       "      <td>5040</td>\n",
       "      <td>Equipment</td>\n",
       "      <td>$123,000</td>\n",
       "      <td>94.81</td>\n",
       "      <td>VC_1605</td>\n",
       "      <td>small</td>\n",
       "      <td>fish</td>\n",
       "      <td>7</td>\n",
       "      <td>1</td>\n",
       "    </tr>\n",
       "    <tr>\n",
       "      <th>1</th>\n",
       "      <td>4567</td>\n",
       "      <td>Toys</td>\n",
       "      <td>$61,000</td>\n",
       "      <td>120.95</td>\n",
       "      <td>VC_1132</td>\n",
       "      <td>small</td>\n",
       "      <td>cat</td>\n",
       "      <td>10</td>\n",
       "      <td>0</td>\n",
       "    </tr>\n",
       "    <tr>\n",
       "      <th>2</th>\n",
       "      <td>4237</td>\n",
       "      <td>Toys</td>\n",
       "      <td>$218,000</td>\n",
       "      <td>106.34</td>\n",
       "      <td>VC_802</td>\n",
       "      <td>small</td>\n",
       "      <td>hamster</td>\n",
       "      <td>6</td>\n",
       "      <td>0</td>\n",
       "    </tr>\n",
       "    <tr>\n",
       "      <th>3</th>\n",
       "      <td>4364</td>\n",
       "      <td>Snack</td>\n",
       "      <td>$69,000</td>\n",
       "      <td>241.27</td>\n",
       "      <td>VC_929</td>\n",
       "      <td>large</td>\n",
       "      <td>dog</td>\n",
       "      <td>1</td>\n",
       "      <td>1</td>\n",
       "    </tr>\n",
       "    <tr>\n",
       "      <th>4</th>\n",
       "      <td>4184</td>\n",
       "      <td>Supplements</td>\n",
       "      <td>$138,000</td>\n",
       "      <td>133.68</td>\n",
       "      <td>VC_749</td>\n",
       "      <td>large</td>\n",
       "      <td>dog</td>\n",
       "      <td>10</td>\n",
       "      <td>0</td>\n",
       "    </tr>\n",
       "    <tr>\n",
       "      <th>...</th>\n",
       "      <td>...</td>\n",
       "      <td>...</td>\n",
       "      <td>...</td>\n",
       "      <td>...</td>\n",
       "      <td>...</td>\n",
       "      <td>...</td>\n",
       "      <td>...</td>\n",
       "      <td>...</td>\n",
       "      <td>...</td>\n",
       "    </tr>\n",
       "    <tr>\n",
       "      <th>874</th>\n",
       "      <td>4999</td>\n",
       "      <td>Snack</td>\n",
       "      <td>$27,000</td>\n",
       "      <td>146.93</td>\n",
       "      <td>VC_1564</td>\n",
       "      <td>medium</td>\n",
       "      <td>bird</td>\n",
       "      <td>6</td>\n",
       "      <td>0</td>\n",
       "    </tr>\n",
       "    <tr>\n",
       "      <th>875</th>\n",
       "      <td>4243</td>\n",
       "      <td>Snack</td>\n",
       "      <td>$76,000</td>\n",
       "      <td>174.07</td>\n",
       "      <td>VC_808</td>\n",
       "      <td>medium</td>\n",
       "      <td>hamster</td>\n",
       "      <td>8</td>\n",
       "      <td>0</td>\n",
       "    </tr>\n",
       "    <tr>\n",
       "      <th>876</th>\n",
       "      <td>4783</td>\n",
       "      <td>Snack</td>\n",
       "      <td>$162,000</td>\n",
       "      <td>224.12</td>\n",
       "      <td>VC_1348</td>\n",
       "      <td>medium</td>\n",
       "      <td>cat</td>\n",
       "      <td>7</td>\n",
       "      <td>1</td>\n",
       "    </tr>\n",
       "    <tr>\n",
       "      <th>877</th>\n",
       "      <td>4664</td>\n",
       "      <td>Bedding</td>\n",
       "      <td>$34,000</td>\n",
       "      <td>199.15</td>\n",
       "      <td>VC_1229</td>\n",
       "      <td>large</td>\n",
       "      <td>dog</td>\n",
       "      <td>10</td>\n",
       "      <td>1</td>\n",
       "    </tr>\n",
       "    <tr>\n",
       "      <th>878</th>\n",
       "      <td>4850</td>\n",
       "      <td>Toys</td>\n",
       "      <td>$54,000</td>\n",
       "      <td>171.85</td>\n",
       "      <td>VC_1415</td>\n",
       "      <td>small</td>\n",
       "      <td>dog</td>\n",
       "      <td>1</td>\n",
       "      <td>1</td>\n",
       "    </tr>\n",
       "  </tbody>\n",
       "</table>\n",
       "<p>879 rows × 9 columns</p>\n",
       "</div>"
      ],
      "text/plain": [
       "     product_id product_category     sales   price vendor_id pet_size  \\\n",
       "0          5040        Equipment  $123,000   94.81   VC_1605    small   \n",
       "1          4567             Toys   $61,000  120.95   VC_1132    small   \n",
       "2          4237             Toys  $218,000  106.34    VC_802    small   \n",
       "3          4364            Snack   $69,000  241.27    VC_929    large   \n",
       "4          4184      Supplements  $138,000  133.68    VC_749    large   \n",
       "..          ...              ...       ...     ...       ...      ...   \n",
       "874        4999            Snack   $27,000  146.93   VC_1564   medium   \n",
       "875        4243            Snack   $76,000  174.07    VC_808   medium   \n",
       "876        4783            Snack  $162,000  224.12   VC_1348   medium   \n",
       "877        4664          Bedding   $34,000  199.15   VC_1229    large   \n",
       "878        4850             Toys   $54,000  171.85   VC_1415    small   \n",
       "\n",
       "    pet_type  rating  re_buy  \n",
       "0       fish       7       1  \n",
       "1        cat      10       0  \n",
       "2    hamster       6       0  \n",
       "3        dog       1       1  \n",
       "4        dog      10       0  \n",
       "..       ...     ...     ...  \n",
       "874     bird       6       0  \n",
       "875  hamster       8       0  \n",
       "876      cat       7       1  \n",
       "877      dog      10       1  \n",
       "878      dog       1       1  \n",
       "\n",
       "[879 rows x 9 columns]"
      ]
     },
     "execution_count": 3,
     "metadata": {},
     "output_type": "execute_result"
    }
   ],
   "source": [
    "pet_sales"
   ]
  },
  {
   "cell_type": "markdown",
   "id": "9a227d7d",
   "metadata": {},
   "source": [
    "# Data Validation - EDA"
   ]
  },
  {
   "cell_type": "code",
   "execution_count": 4,
   "id": "e849b133",
   "metadata": {
    "scrolled": true
   },
   "outputs": [
    {
     "name": "stdout",
     "output_type": "stream",
     "text": [
      "<class 'pandas.core.frame.DataFrame'>\n",
      "RangeIndex: 879 entries, 0 to 878\n",
      "Data columns (total 9 columns):\n",
      " #   Column            Non-Null Count  Dtype  \n",
      "---  ------            --------------  -----  \n",
      " 0   product_id        879 non-null    int64  \n",
      " 1   product_category  879 non-null    object \n",
      " 2   sales             879 non-null    object \n",
      " 3   price             879 non-null    float64\n",
      " 4   vendor_id         879 non-null    object \n",
      " 5   pet_size          879 non-null    object \n",
      " 6   pet_type          879 non-null    object \n",
      " 7   rating            879 non-null    int64  \n",
      " 8   re_buy            879 non-null    int64  \n",
      "dtypes: float64(1), int64(3), object(5)\n",
      "memory usage: 61.9+ KB\n"
     ]
    }
   ],
   "source": [
    "# dataset info\n",
    "\n",
    "pet_sales.info()"
   ]
  },
  {
   "cell_type": "markdown",
   "id": "2b02c216",
   "metadata": {},
   "source": [
    "## Checking the data for accordance to the data description"
   ]
  },
  {
   "cell_type": "code",
   "execution_count": 5,
   "id": "452ed4dd",
   "metadata": {},
   "outputs": [
    {
     "data": {
      "text/plain": [
       "0    123000\n",
       "1     61000\n",
       "2    218000\n",
       "Name: sales, dtype: int64"
      ]
     },
     "execution_count": 5,
     "metadata": {},
     "output_type": "execute_result"
    }
   ],
   "source": [
    "# Sales column should be converted from object to numeric type\n",
    "\n",
    "pet_sales.sales = pd.to_numeric(pet_sales.sales.apply(lambda x: x.replace('$', '').replace(',', '')))\n",
    "pet_sales.sales.head(3)"
   ]
  },
  {
   "cell_type": "code",
   "execution_count": 6,
   "id": "f68f5cf2",
   "metadata": {},
   "outputs": [
    {
     "data": {
      "text/plain": [
       "(833, 9)"
      ]
     },
     "execution_count": 6,
     "metadata": {},
     "output_type": "execute_result"
    }
   ],
   "source": [
    "# Rows that indicate other than “cat” ,“dog”, “fish” or “bird” pet type should be excluded in the analysis\n",
    "\n",
    "pet_sales.drop(pet_sales.query(\"pet_type not in ['cat', 'dog', 'fish', 'bird']\").index, inplace=True)\n",
    "\n",
    "pet_sales.shape\n",
    "\n",
    "# 833 rows left"
   ]
  },
  {
   "cell_type": "code",
   "execution_count": 7,
   "id": "0ae9ee72",
   "metadata": {},
   "outputs": [
    {
     "data": {
      "text/plain": [
       "array([ 1,  2,  3,  4,  5,  6,  7,  8,  9, 10], dtype=int64)"
      ]
     },
     "execution_count": 7,
     "metadata": {},
     "output_type": "execute_result"
    }
   ],
   "source": [
    "# Rating column should be on a 10 point scale\n",
    "\n",
    "# pet_sales.rating.describe()\n",
    "np.sort(pet_sales.rating.unique())\n",
    "\n",
    "# That's true"
   ]
  },
  {
   "cell_type": "code",
   "execution_count": 8,
   "id": "5756bb7f",
   "metadata": {},
   "outputs": [
    {
     "data": {
      "text/plain": [
       "11"
      ]
     },
     "execution_count": 8,
     "metadata": {},
     "output_type": "execute_result"
    }
   ],
   "source": [
    "# According to the dataset description, there should be 11 product categories. let's check this\n",
    "\n",
    "pet_sales.product_category.nunique()\n",
    "\n",
    "# That's true"
   ]
  },
  {
   "cell_type": "code",
   "execution_count": 9,
   "id": "ab5ac351",
   "metadata": {},
   "outputs": [
    {
     "data": {
      "text/plain": [
       "833"
      ]
     },
     "execution_count": 9,
     "metadata": {},
     "output_type": "execute_result"
    }
   ],
   "source": [
    "# There should be unique vendor for each product\n",
    "\n",
    "pet_sales.vendor_id.nunique()\n",
    "\n",
    "# That's true"
   ]
  },
  {
   "cell_type": "code",
   "execution_count": 10,
   "id": "365b6f65",
   "metadata": {},
   "outputs": [
    {
     "data": {
      "text/plain": [
       "array(['small', 'large', 'extra_small', 'medium', 'extra_large'],\n",
       "      dtype=object)"
      ]
     },
     "execution_count": 10,
     "metadata": {},
     "output_type": "execute_result"
    }
   ],
   "source": [
    "# According to the dataset description, there should be 5 pet sizes. let's check it\n",
    "\n",
    "pet_sales.pet_size.unique()\n",
    "\n",
    "# That's true"
   ]
  },
  {
   "cell_type": "code",
   "execution_count": 11,
   "id": "5b982629",
   "metadata": {},
   "outputs": [
    {
     "data": {
      "text/plain": [
       "array([1, 0], dtype=int64)"
      ]
     },
     "execution_count": 11,
     "metadata": {},
     "output_type": "execute_result"
    }
   ],
   "source": [
    "# Rebuy column should be  binary (1 or 0)\n",
    "\n",
    "pet_sales.re_buy.unique()\n",
    "# pet_sales.re_buy.astype('bool')\n",
    "\n",
    "# That's true"
   ]
  },
  {
   "cell_type": "markdown",
   "id": "b5b65490",
   "metadata": {},
   "source": [
    "## Missing values"
   ]
  },
  {
   "cell_type": "code",
   "execution_count": 12,
   "id": "f50893ed",
   "metadata": {},
   "outputs": [
    {
     "name": "stdout",
     "output_type": "stream",
     "text": [
      "<class 'pandas.core.frame.DataFrame'>\n",
      "Int64Index: 833 entries, 0 to 878\n",
      "Data columns (total 9 columns):\n",
      " #   Column            Non-Null Count  Dtype  \n",
      "---  ------            --------------  -----  \n",
      " 0   product_id        833 non-null    int64  \n",
      " 1   product_category  833 non-null    object \n",
      " 2   sales             833 non-null    int64  \n",
      " 3   price             833 non-null    float64\n",
      " 4   vendor_id         833 non-null    object \n",
      " 5   pet_size          833 non-null    object \n",
      " 6   pet_type          833 non-null    object \n",
      " 7   rating            833 non-null    int64  \n",
      " 8   re_buy            833 non-null    int64  \n",
      "dtypes: float64(1), int64(4), object(4)\n",
      "memory usage: 65.1+ KB\n"
     ]
    }
   ],
   "source": [
    "pet_sales.info()"
   ]
  },
  {
   "cell_type": "markdown",
   "id": "a37c1dff",
   "metadata": {},
   "source": [
    "There are no missing values."
   ]
  },
  {
   "cell_type": "markdown",
   "id": "1d111a3b",
   "metadata": {},
   "source": [
    "## Duplicates"
   ]
  },
  {
   "cell_type": "code",
   "execution_count": 13,
   "id": "9ac43a10",
   "metadata": {},
   "outputs": [
    {
     "data": {
      "text/plain": [
       "False"
      ]
     },
     "execution_count": 13,
     "metadata": {},
     "output_type": "execute_result"
    }
   ],
   "source": [
    "pet_sales.duplicated().any()"
   ]
  },
  {
   "cell_type": "code",
   "execution_count": 14,
   "id": "ef3ea1e1",
   "metadata": {},
   "outputs": [],
   "source": [
    "# for column in pet_sales:\n",
    "#     print(f\"Duplicates in {column}:\")\n",
    "#     print(pet_sales[column].duplicated().any())"
   ]
  },
  {
   "cell_type": "markdown",
   "id": "aa53cdf0",
   "metadata": {},
   "source": [
    "There are no duplicates."
   ]
  },
  {
   "cell_type": "markdown",
   "id": "76529100",
   "metadata": {},
   "source": [
    "## Anomalies, outliers"
   ]
  },
  {
   "cell_type": "code",
   "execution_count": 15,
   "id": "c233f67c",
   "metadata": {},
   "outputs": [
    {
     "data": {
      "text/html": [
       "<div>\n",
       "<style scoped>\n",
       "    .dataframe tbody tr th:only-of-type {\n",
       "        vertical-align: middle;\n",
       "    }\n",
       "\n",
       "    .dataframe tbody tr th {\n",
       "        vertical-align: top;\n",
       "    }\n",
       "\n",
       "    .dataframe thead th {\n",
       "        text-align: right;\n",
       "    }\n",
       "</style>\n",
       "<table border=\"1\" class=\"dataframe\">\n",
       "  <thead>\n",
       "    <tr style=\"text-align: right;\">\n",
       "      <th></th>\n",
       "      <th>product_id</th>\n",
       "      <th>sales</th>\n",
       "      <th>price</th>\n",
       "      <th>rating</th>\n",
       "      <th>re_buy</th>\n",
       "    </tr>\n",
       "  </thead>\n",
       "  <tbody>\n",
       "    <tr>\n",
       "      <th>count</th>\n",
       "      <td>833.000000</td>\n",
       "      <td>833.000000</td>\n",
       "      <td>833.000000</td>\n",
       "      <td>833.000000</td>\n",
       "      <td>833.000000</td>\n",
       "    </tr>\n",
       "    <tr>\n",
       "      <th>mean</th>\n",
       "      <td>4631.404562</td>\n",
       "      <td>116100.840336</td>\n",
       "      <td>127.994802</td>\n",
       "      <td>6.530612</td>\n",
       "      <td>0.468187</td>\n",
       "    </tr>\n",
       "    <tr>\n",
       "      <th>std</th>\n",
       "      <td>244.889360</td>\n",
       "      <td>66324.790235</td>\n",
       "      <td>72.552580</td>\n",
       "      <td>2.843572</td>\n",
       "      <td>0.499287</td>\n",
       "    </tr>\n",
       "    <tr>\n",
       "      <th>min</th>\n",
       "      <td>4172.000000</td>\n",
       "      <td>3000.000000</td>\n",
       "      <td>0.350000</td>\n",
       "      <td>1.000000</td>\n",
       "      <td>0.000000</td>\n",
       "    </tr>\n",
       "    <tr>\n",
       "      <th>25%</th>\n",
       "      <td>4426.000000</td>\n",
       "      <td>59000.000000</td>\n",
       "      <td>63.300000</td>\n",
       "      <td>5.000000</td>\n",
       "      <td>0.000000</td>\n",
       "    </tr>\n",
       "    <tr>\n",
       "      <th>50%</th>\n",
       "      <td>4634.000000</td>\n",
       "      <td>116000.000000</td>\n",
       "      <td>129.520000</td>\n",
       "      <td>6.000000</td>\n",
       "      <td>0.000000</td>\n",
       "    </tr>\n",
       "    <tr>\n",
       "      <th>75%</th>\n",
       "      <td>4842.000000</td>\n",
       "      <td>177000.000000</td>\n",
       "      <td>189.250000</td>\n",
       "      <td>10.000000</td>\n",
       "      <td>1.000000</td>\n",
       "    </tr>\n",
       "    <tr>\n",
       "      <th>max</th>\n",
       "      <td>5050.000000</td>\n",
       "      <td>230000.000000</td>\n",
       "      <td>252.690000</td>\n",
       "      <td>10.000000</td>\n",
       "      <td>1.000000</td>\n",
       "    </tr>\n",
       "  </tbody>\n",
       "</table>\n",
       "</div>"
      ],
      "text/plain": [
       "        product_id          sales       price      rating      re_buy\n",
       "count   833.000000     833.000000  833.000000  833.000000  833.000000\n",
       "mean   4631.404562  116100.840336  127.994802    6.530612    0.468187\n",
       "std     244.889360   66324.790235   72.552580    2.843572    0.499287\n",
       "min    4172.000000    3000.000000    0.350000    1.000000    0.000000\n",
       "25%    4426.000000   59000.000000   63.300000    5.000000    0.000000\n",
       "50%    4634.000000  116000.000000  129.520000    6.000000    0.000000\n",
       "75%    4842.000000  177000.000000  189.250000   10.000000    1.000000\n",
       "max    5050.000000  230000.000000  252.690000   10.000000    1.000000"
      ]
     },
     "execution_count": 15,
     "metadata": {},
     "output_type": "execute_result"
    }
   ],
   "source": [
    "pet_sales.describe()"
   ]
  },
  {
   "cell_type": "code",
   "execution_count": 16,
   "id": "f4a73253",
   "metadata": {},
   "outputs": [
    {
     "data": {
      "image/png": "[encoded data removed]",
      "text/plain": [
       "<Figure size 864x432 with 1 Axes>"
      ]
     },
     "metadata": {},
     "output_type": "display_data"
    }
   ],
   "source": [
    "sns.boxplot(data=pet_sales, x='sales')\n",
    "plt.show()"
   ]
  },
  {
   "cell_type": "code",
   "execution_count": 17,
   "id": "2eb5150f",
   "metadata": {},
   "outputs": [
    {
     "data": {
      "image/png": "[encoded data removed]",
      "text/plain": [
       "<Figure size 864x432 with 1 Axes>"
      ]
     },
     "metadata": {},
     "output_type": "display_data"
    }
   ],
   "source": [
    "sns.boxplot(data=pet_sales, x='price')\n",
    "plt.show()"
   ]
  },
  {
   "cell_type": "markdown",
   "id": "92e3c931",
   "metadata": {},
   "source": [
    "There are no outliers."
   ]
  },
  {
   "cell_type": "markdown",
   "id": "3f03d793",
   "metadata": {},
   "source": [
    "## Validation summary\n",
    "\n",
    "The original data is 879 rows and 9 columns.  \n",
    "\n",
    "First of all, I checked if the data matches the criteria in the data dictionary: \n",
    "* converted Sales column from object to numeric type\n",
    "* removed rows that indicate other than “cat” ,“dog”, “fish” or “bird” Pet Type. 833 rows left in the df.\n",
    "\n",
    "Looking at the remaining columns:\n",
    "* there were 11 Product Categories, as expected\n",
    "* the Price column is numeric, as expected\n",
    "* the Rating values range from 1 to 10 point scale, so all are within the range expected\n",
    "* there were 833 unique Vendors for each product, as expected\n",
    "* there were 5 Pet Sizes, as expected\n",
    "* the Rebuy column is binary (1 or 0), as expected.\n",
    "\n",
    "Then I checked the data frame for: \n",
    "* missing values - there were no missing values\n",
    "* duplicates - no duplicates\n",
    "* outliers - no outliers."
   ]
  },
  {
   "cell_type": "markdown",
   "id": "eee3b6f2",
   "metadata": {},
   "source": [
    "# Customer Questions"
   ]
  },
  {
   "cell_type": "markdown",
   "id": "b7429ce7",
   "metadata": {},
   "source": [
    "## 1. How many products are being purchased more than once?"
   ]
  },
  {
   "cell_type": "code",
   "execution_count": 18,
   "id": "b889b565",
   "metadata": {},
   "outputs": [
    {
     "name": "stdout",
     "output_type": "stream",
     "text": [
      "Number of products purchased more than once: 390\n"
     ]
    }
   ],
   "source": [
    "# filter df by rebuy variable (1 - purchased more than once; 0 - purchased once)\n",
    "\n",
    "print('Number of products purchased more than once:', pet_sales.query(\"re_buy == 1\").shape[0])\n",
    "\n",
    "# 390 products were purchased more than once"
   ]
  },
  {
   "cell_type": "code",
   "execution_count": 105,
   "id": "e49c784a",
   "metadata": {
    "scrolled": false
   },
   "outputs": [
    {
     "data": {
      "image/png": "[encoded data removed]",
      "text/plain": [
       "<Figure size 864x432 with 1 Axes>"
      ]
     },
     "metadata": {},
     "output_type": "display_data"
    }
   ],
   "source": [
    "# Visualize with histogram\n",
    "\n",
    "sns.histplot(data=pet_sales, x='re_buy', discrete=True)\n",
    "plt.ylabel('Count')\n",
    "plt.xlabel(None)\n",
    "plt.title('Once Purchased (left) vs. Multiple Purchased (right) Products')\n",
    "plt.show()"
   ]
  },
  {
   "cell_type": "code",
   "execution_count": 20,
   "id": "11da3c97",
   "metadata": {},
   "outputs": [
    {
     "name": "stdout",
     "output_type": "stream",
     "text": [
      "Percent of products purchased more than once: 46.82 %\n"
     ]
    }
   ],
   "source": [
    "print('Percent of products purchased more than once:', \n",
    "      round(100 * pet_sales.query(\"re_buy == 1\").shape[0] / pet_sales.shape[0], 2), '%')"
   ]
  },
  {
   "cell_type": "code",
   "execution_count": 21,
   "id": "3a4a9a93",
   "metadata": {},
   "outputs": [
    {
     "data": {
      "image/png": "[encoded data removed]",
      "text/plain": [
       "<Figure size 864x432 with 1 Axes>"
      ]
     },
     "metadata": {},
     "output_type": "display_data"
    }
   ],
   "source": [
    "# Visualize with pie plot\n",
    "\n",
    "# define Seaborn color palette to use\n",
    "palette_color = sns.color_palette('muted')\n",
    "\n",
    "pet_sales.value_counts('re_buy').reset_index().rename(columns={0:'count'})\\\n",
    "                                .plot.pie(y='count', explode=[0,0.1],autopct='%1.2f%%',shadow=True, colors=palette_color)\n",
    "plt.title('Multiple (1) vs. One (0) Purchase')\n",
    "plt.show()"
   ]
  },
  {
   "cell_type": "code",
   "execution_count": 22,
   "id": "87c9cf10",
   "metadata": {},
   "outputs": [
    {
     "data": {
      "text/html": [
       "<div>\n",
       "<style scoped>\n",
       "    .dataframe tbody tr th:only-of-type {\n",
       "        vertical-align: middle;\n",
       "    }\n",
       "\n",
       "    .dataframe tbody tr th {\n",
       "        vertical-align: top;\n",
       "    }\n",
       "\n",
       "    .dataframe thead th {\n",
       "        text-align: right;\n",
       "    }\n",
       "</style>\n",
       "<table border=\"1\" class=\"dataframe\">\n",
       "  <thead>\n",
       "    <tr style=\"text-align: right;\">\n",
       "      <th></th>\n",
       "      <th>count</th>\n",
       "      <th>percent</th>\n",
       "    </tr>\n",
       "  </thead>\n",
       "  <tbody>\n",
       "    <tr>\n",
       "      <th>0</th>\n",
       "      <td>443</td>\n",
       "      <td>53.18</td>\n",
       "    </tr>\n",
       "    <tr>\n",
       "      <th>1</th>\n",
       "      <td>390</td>\n",
       "      <td>46.82</td>\n",
       "    </tr>\n",
       "  </tbody>\n",
       "</table>\n",
       "</div>"
      ],
      "text/plain": [
       "   count  percent\n",
       "0    443    53.18\n",
       "1    390    46.82"
      ]
     },
     "execution_count": 22,
     "metadata": {},
     "output_type": "execute_result"
    }
   ],
   "source": [
    "# Summarize table \n",
    "\n",
    "pd.concat([pet_sales.re_buy.value_counts(), \n",
    "          pet_sales.re_buy.value_counts(normalize=True).mul(100).round(2)],\n",
    "          axis=1,\n",
    "          keys=('count', 'percent'))"
   ]
  },
  {
   "cell_type": "markdown",
   "id": "4a58564a",
   "metadata": {},
   "source": [
    "**How many products are being purchased more than once?**\n",
    "    \n",
    "There are ***390*** (***46.82 %***) products that were purchased more than once and 443 (53.18 %) products purchased once. So, more products were purchased only once."
   ]
  },
  {
   "cell_type": "markdown",
   "id": "36c359e3",
   "metadata": {},
   "source": [
    "# Do the products being purchased again have better sales than others?"
   ]
  },
  {
   "cell_type": "code",
   "execution_count": 107,
   "id": "d73f5762",
   "metadata": {},
   "outputs": [
    {
     "data": {
      "text/html": [
       "<div>\n",
       "<style scoped>\n",
       "    .dataframe tbody tr th:only-of-type {\n",
       "        vertical-align: middle;\n",
       "    }\n",
       "\n",
       "    .dataframe tbody tr th {\n",
       "        vertical-align: top;\n",
       "    }\n",
       "\n",
       "    .dataframe thead th {\n",
       "        text-align: right;\n",
       "    }\n",
       "</style>\n",
       "<table border=\"1\" class=\"dataframe\">\n",
       "  <thead>\n",
       "    <tr style=\"text-align: right;\">\n",
       "      <th></th>\n",
       "      <th>re_buy</th>\n",
       "      <th>sales</th>\n",
       "      <th>ratio</th>\n",
       "      <th>avg_sales_per_item</th>\n",
       "    </tr>\n",
       "  </thead>\n",
       "  <tbody>\n",
       "    <tr>\n",
       "      <th>0</th>\n",
       "      <td>0</td>\n",
       "      <td>51125000</td>\n",
       "      <td>52.86</td>\n",
       "      <td>115406.32</td>\n",
       "    </tr>\n",
       "    <tr>\n",
       "      <th>1</th>\n",
       "      <td>1</td>\n",
       "      <td>45587000</td>\n",
       "      <td>47.14</td>\n",
       "      <td>116889.74</td>\n",
       "    </tr>\n",
       "  </tbody>\n",
       "</table>\n",
       "</div>"
      ],
      "text/plain": [
       "   re_buy     sales  ratio  avg_sales_per_item\n",
       "0       0  51125000  52.86           115406.32\n",
       "1       1  45587000  47.14           116889.74"
      ]
     },
     "execution_count": 107,
     "metadata": {},
     "output_type": "execute_result"
    }
   ],
   "source": [
    "# Total amount of sales for multiple-purchased and once-purchased products\n",
    "\n",
    "sales_by_purchase = pet_sales.groupby('re_buy', as_index=False).agg({'sales':'sum'})\n",
    "\n",
    "# add ratio of sales by purchase to total sales\n",
    "sales_by_purchase['ratio'] = round(100 * sales_by_purchase.sales / pet_sales.sales.sum(), 2)\n",
    "\n",
    "# average sales per product\n",
    "sales_by_purchase['avg_sales_per_item'] = round(sales_by_purchase.sales / pet_sales.re_buy.value_counts(), 2)\n",
    "\n",
    "sales_by_purchase\n",
    "\n",
    "# Average sales per item is higher for multiple purchased products, which makes sense"
   ]
  },
  {
   "cell_type": "code",
   "execution_count": 64,
   "id": "26270965",
   "metadata": {},
   "outputs": [],
   "source": [
    "# pet_sales.groupby('re_buy').agg({'sales':'mean'})"
   ]
  },
  {
   "cell_type": "code",
   "execution_count": 103,
   "id": "5e25d2f6",
   "metadata": {},
   "outputs": [
    {
     "data": {
      "image/png": "[encoded data removed]",
      "text/plain": [
       "<Figure size 720x360 with 2 Axes>"
      ]
     },
     "metadata": {},
     "output_type": "display_data"
    }
   ],
   "source": [
    "# Visualize with sales distribution by purchases\n",
    "\n",
    "ax = sns.displot(data=pet_sales, x='sales', col='re_buy')\n",
    "plt.show()\n",
    "# There is no visible difference"
   ]
  },
  {
   "cell_type": "code",
   "execution_count": 101,
   "id": "39758dfb",
   "metadata": {},
   "outputs": [
    {
     "data": {
      "image/png": "[encoded data removed]",
      "text/plain": [
       "<Figure size 864x432 with 1 Axes>"
      ]
     },
     "metadata": {},
     "output_type": "display_data"
    }
   ],
   "source": [
    "sns.boxplot(data=pet_sales, x='re_buy', y='sales')\n",
    "\n",
    "plt.ylabel('Sales')\n",
    "plt.xlabel(None)\n",
    "plt.title('Sales Distribution: Once Purchased (0) and Multiple Purchased (1) Products')\n",
    "plt.show()\n",
    "# The confidence intervals for sales of once purchased products and multiple purchased products are almost equal"
   ]
  },
  {
   "cell_type": "markdown",
   "id": "edb61320",
   "metadata": {},
   "source": [
    "### Comparing average sales for multiple purchased products and once purchased products with Student's t-test"
   ]
  },
  {
   "cell_type": "markdown",
   "id": "89f3d94c",
   "metadata": {},
   "source": [
    "* **H0** - there is no difference between multiple purchased products sales and once purchased products sales  \n",
    "* **Ha** - there is difference between multiple purchased products sales and once purchased products sales\n",
    "\n",
    "Let's take alpha == 0.05."
   ]
  },
  {
   "cell_type": "code",
   "execution_count": 27,
   "id": "f863aa3e",
   "metadata": {},
   "outputs": [
    {
     "data": {
      "text/plain": [
       "Ttest_indResult(statistic=-0.3228621637026388, pvalue=0.7468814018924619)"
      ]
     },
     "execution_count": 27,
     "metadata": {},
     "output_type": "execute_result"
    }
   ],
   "source": [
    "# Parametric t-test\n",
    "stats.ttest_ind(pet_sales[pet_sales['re_buy']==0].sales, \n",
    "                pet_sales[pet_sales['re_buy']==1].sales, \n",
    "                equal_var=False,\n",
    "                alternative='two-sided')\n",
    "\n",
    "# p-values >>> 0.05"
   ]
  },
  {
   "cell_type": "markdown",
   "id": "b0a3946b",
   "metadata": {},
   "source": [
    "p-value equals 0.75, so we can't accept Ha. We can state that there is no significant difference between average sales of multiple purchased products and once purchased products."
   ]
  },
  {
   "cell_type": "markdown",
   "id": "6199cd0c",
   "metadata": {},
   "source": [
    "### Comparing sales for multiple purchased products and once purchased products with Mann-Whitney test"
   ]
  },
  {
   "cell_type": "markdown",
   "id": "eb34d358",
   "metadata": {},
   "source": [
    "* **H0** - there is no difference between multiple purchased products sales and once purchased products sales  \n",
    "* **Ha** - there is difference between multiple purchased products sales and once purchased products sales\n",
    "\n",
    "Let's take alpha == 0.05."
   ]
  },
  {
   "cell_type": "code",
   "execution_count": 28,
   "id": "591f379b",
   "metadata": {},
   "outputs": [
    {
     "data": {
      "text/plain": [
       "MannwhitneyuResult(statistic=85324.5, pvalue=0.7596770711171248)"
      ]
     },
     "execution_count": 28,
     "metadata": {},
     "output_type": "execute_result"
    }
   ],
   "source": [
    "# Non-parametric test\n",
    "stats.mannwhitneyu(pet_sales[pet_sales['re_buy']==0].sales, \n",
    "                   pet_sales[pet_sales['re_buy']==1].sales, \n",
    "                   alternative='two-sided')\n",
    "\n",
    "# p-values >>> 0.05"
   ]
  },
  {
   "cell_type": "markdown",
   "id": "9dd5fe6f",
   "metadata": {},
   "source": [
    "Again, p-value is much bigger than alpha, so we can't accept Ha. We can state that there is no significant difference between sales of multiple purchased products and once purchased products."
   ]
  },
  {
   "cell_type": "markdown",
   "id": "021a8f2e",
   "metadata": {},
   "source": [
    "**Do the products being purchased again have better sales than others?**\n",
    "\n",
    "We can't say that products being purchased again have better sales than others. Others sales equal 51 125 000 (52.86% of total sales) dollars, while multiple purchased products sales equal to 45 587 000 (47.14% of total sales). Though, average sales per item is higher for multiple purchased products, which makes sense.  \n",
    "Statistical t-test and mann-whitney test supports this conclusion (there is no significant difference between sales in these two groups) with significance level of 5%."
   ]
  },
  {
   "cell_type": "markdown",
   "id": "b8c203d8",
   "metadata": {},
   "source": [
    "## What products are more likely to be purchased again for different types of pets?"
   ]
  },
  {
   "cell_type": "code",
   "execution_count": 150,
   "id": "6a350b3a",
   "metadata": {},
   "outputs": [
    {
     "data": {
      "text/html": [
       "<div>\n",
       "<style scoped>\n",
       "    .dataframe tbody tr th:only-of-type {\n",
       "        vertical-align: middle;\n",
       "    }\n",
       "\n",
       "    .dataframe tbody tr th {\n",
       "        vertical-align: top;\n",
       "    }\n",
       "\n",
       "    .dataframe thead th {\n",
       "        text-align: right;\n",
       "    }\n",
       "</style>\n",
       "<table border=\"1\" class=\"dataframe\">\n",
       "  <thead>\n",
       "    <tr style=\"text-align: right;\">\n",
       "      <th></th>\n",
       "      <th>pet_type</th>\n",
       "      <th>product_category</th>\n",
       "      <th>re_buy</th>\n",
       "      <th>total_buys</th>\n",
       "      <th>prcnt_rebuys</th>\n",
       "    </tr>\n",
       "  </thead>\n",
       "  <tbody>\n",
       "    <tr>\n",
       "      <th>29</th>\n",
       "      <td>bird</td>\n",
       "      <td>Bedding</td>\n",
       "      <td>1</td>\n",
       "      <td>2</td>\n",
       "      <td>50.00</td>\n",
       "    </tr>\n",
       "    <tr>\n",
       "      <th>31</th>\n",
       "      <td>bird</td>\n",
       "      <td>Clothes</td>\n",
       "      <td>1</td>\n",
       "      <td>2</td>\n",
       "      <td>50.00</td>\n",
       "    </tr>\n",
       "    <tr>\n",
       "      <th>34</th>\n",
       "      <td>bird</td>\n",
       "      <td>Accessory</td>\n",
       "      <td>1</td>\n",
       "      <td>2</td>\n",
       "      <td>50.00</td>\n",
       "    </tr>\n",
       "    <tr>\n",
       "      <th>36</th>\n",
       "      <td>bird</td>\n",
       "      <td>Housing</td>\n",
       "      <td>1</td>\n",
       "      <td>2</td>\n",
       "      <td>50.00</td>\n",
       "    </tr>\n",
       "    <tr>\n",
       "      <th>37</th>\n",
       "      <td>bird</td>\n",
       "      <td>Medicine</td>\n",
       "      <td>1</td>\n",
       "      <td>2</td>\n",
       "      <td>50.00</td>\n",
       "    </tr>\n",
       "    <tr>\n",
       "      <th>38</th>\n",
       "      <td>bird</td>\n",
       "      <td>Supplements</td>\n",
       "      <td>1</td>\n",
       "      <td>2</td>\n",
       "      <td>50.00</td>\n",
       "    </tr>\n",
       "    <tr>\n",
       "      <th>25</th>\n",
       "      <td>bird</td>\n",
       "      <td>Toys</td>\n",
       "      <td>7</td>\n",
       "      <td>17</td>\n",
       "      <td>41.18</td>\n",
       "    </tr>\n",
       "    <tr>\n",
       "      <th>26</th>\n",
       "      <td>bird</td>\n",
       "      <td>Snack</td>\n",
       "      <td>7</td>\n",
       "      <td>17</td>\n",
       "      <td>41.18</td>\n",
       "    </tr>\n",
       "    <tr>\n",
       "      <th>27</th>\n",
       "      <td>bird</td>\n",
       "      <td>Equipment</td>\n",
       "      <td>7</td>\n",
       "      <td>18</td>\n",
       "      <td>38.89</td>\n",
       "    </tr>\n",
       "    <tr>\n",
       "      <th>35</th>\n",
       "      <td>bird</td>\n",
       "      <td>Food</td>\n",
       "      <td>1</td>\n",
       "      <td>3</td>\n",
       "      <td>33.33</td>\n",
       "    </tr>\n",
       "    <tr>\n",
       "      <th>42</th>\n",
       "      <td>bird</td>\n",
       "      <td>Grooming</td>\n",
       "      <td>0</td>\n",
       "      <td>2</td>\n",
       "      <td>0.00</td>\n",
       "    </tr>\n",
       "    <tr>\n",
       "      <th>7</th>\n",
       "      <td>cat</td>\n",
       "      <td>Food</td>\n",
       "      <td>18</td>\n",
       "      <td>33</td>\n",
       "      <td>54.55</td>\n",
       "    </tr>\n",
       "    <tr>\n",
       "      <th>1</th>\n",
       "      <td>cat</td>\n",
       "      <td>Equipment</td>\n",
       "      <td>27</td>\n",
       "      <td>51</td>\n",
       "      <td>52.94</td>\n",
       "    </tr>\n",
       "    <tr>\n",
       "      <th>14</th>\n",
       "      <td>cat</td>\n",
       "      <td>Clothes</td>\n",
       "      <td>10</td>\n",
       "      <td>19</td>\n",
       "      <td>52.63</td>\n",
       "    </tr>\n",
       "    <tr>\n",
       "      <th>9</th>\n",
       "      <td>cat</td>\n",
       "      <td>Supplements</td>\n",
       "      <td>17</td>\n",
       "      <td>34</td>\n",
       "      <td>50.00</td>\n",
       "    </tr>\n",
       "    <tr>\n",
       "      <th>17</th>\n",
       "      <td>cat</td>\n",
       "      <td>Accessory</td>\n",
       "      <td>9</td>\n",
       "      <td>18</td>\n",
       "      <td>50.00</td>\n",
       "    </tr>\n",
       "    <tr>\n",
       "      <th>3</th>\n",
       "      <td>cat</td>\n",
       "      <td>Toys</td>\n",
       "      <td>25</td>\n",
       "      <td>51</td>\n",
       "      <td>49.02</td>\n",
       "    </tr>\n",
       "    <tr>\n",
       "      <th>16</th>\n",
       "      <td>cat</td>\n",
       "      <td>Housing</td>\n",
       "      <td>9</td>\n",
       "      <td>19</td>\n",
       "      <td>47.37</td>\n",
       "    </tr>\n",
       "    <tr>\n",
       "      <th>18</th>\n",
       "      <td>cat</td>\n",
       "      <td>Bedding</td>\n",
       "      <td>9</td>\n",
       "      <td>19</td>\n",
       "      <td>47.37</td>\n",
       "    </tr>\n",
       "    <tr>\n",
       "      <th>10</th>\n",
       "      <td>cat</td>\n",
       "      <td>Medicine</td>\n",
       "      <td>15</td>\n",
       "      <td>34</td>\n",
       "      <td>44.12</td>\n",
       "    </tr>\n",
       "    <tr>\n",
       "      <th>5</th>\n",
       "      <td>cat</td>\n",
       "      <td>Snack</td>\n",
       "      <td>19</td>\n",
       "      <td>50</td>\n",
       "      <td>38.00</td>\n",
       "    </tr>\n",
       "    <tr>\n",
       "      <th>24</th>\n",
       "      <td>cat</td>\n",
       "      <td>Grooming</td>\n",
       "      <td>7</td>\n",
       "      <td>19</td>\n",
       "      <td>36.84</td>\n",
       "    </tr>\n",
       "    <tr>\n",
       "      <th>11</th>\n",
       "      <td>dog</td>\n",
       "      <td>Bedding</td>\n",
       "      <td>14</td>\n",
       "      <td>19</td>\n",
       "      <td>73.68</td>\n",
       "    </tr>\n",
       "    <tr>\n",
       "      <th>4</th>\n",
       "      <td>dog</td>\n",
       "      <td>Medicine</td>\n",
       "      <td>20</td>\n",
       "      <td>34</td>\n",
       "      <td>58.82</td>\n",
       "    </tr>\n",
       "    <tr>\n",
       "      <th>13</th>\n",
       "      <td>dog</td>\n",
       "      <td>Grooming</td>\n",
       "      <td>10</td>\n",
       "      <td>18</td>\n",
       "      <td>55.56</td>\n",
       "    </tr>\n",
       "    <tr>\n",
       "      <th>0</th>\n",
       "      <td>dog</td>\n",
       "      <td>Equipment</td>\n",
       "      <td>28</td>\n",
       "      <td>51</td>\n",
       "      <td>54.90</td>\n",
       "    </tr>\n",
       "    <tr>\n",
       "      <th>15</th>\n",
       "      <td>dog</td>\n",
       "      <td>Accessory</td>\n",
       "      <td>10</td>\n",
       "      <td>19</td>\n",
       "      <td>52.63</td>\n",
       "    </tr>\n",
       "    <tr>\n",
       "      <th>8</th>\n",
       "      <td>dog</td>\n",
       "      <td>Food</td>\n",
       "      <td>17</td>\n",
       "      <td>33</td>\n",
       "      <td>51.52</td>\n",
       "    </tr>\n",
       "    <tr>\n",
       "      <th>2</th>\n",
       "      <td>dog</td>\n",
       "      <td>Snack</td>\n",
       "      <td>25</td>\n",
       "      <td>51</td>\n",
       "      <td>49.02</td>\n",
       "    </tr>\n",
       "    <tr>\n",
       "      <th>19</th>\n",
       "      <td>dog</td>\n",
       "      <td>Housing</td>\n",
       "      <td>8</td>\n",
       "      <td>19</td>\n",
       "      <td>42.11</td>\n",
       "    </tr>\n",
       "    <tr>\n",
       "      <th>21</th>\n",
       "      <td>dog</td>\n",
       "      <td>Clothes</td>\n",
       "      <td>8</td>\n",
       "      <td>19</td>\n",
       "      <td>42.11</td>\n",
       "    </tr>\n",
       "    <tr>\n",
       "      <th>6</th>\n",
       "      <td>dog</td>\n",
       "      <td>Toys</td>\n",
       "      <td>19</td>\n",
       "      <td>51</td>\n",
       "      <td>37.25</td>\n",
       "    </tr>\n",
       "    <tr>\n",
       "      <th>12</th>\n",
       "      <td>dog</td>\n",
       "      <td>Supplements</td>\n",
       "      <td>11</td>\n",
       "      <td>33</td>\n",
       "      <td>33.33</td>\n",
       "    </tr>\n",
       "    <tr>\n",
       "      <th>28</th>\n",
       "      <td>fish</td>\n",
       "      <td>Housing</td>\n",
       "      <td>2</td>\n",
       "      <td>2</td>\n",
       "      <td>100.00</td>\n",
       "    </tr>\n",
       "    <tr>\n",
       "      <th>30</th>\n",
       "      <td>fish</td>\n",
       "      <td>Supplements</td>\n",
       "      <td>1</td>\n",
       "      <td>2</td>\n",
       "      <td>50.00</td>\n",
       "    </tr>\n",
       "    <tr>\n",
       "      <th>32</th>\n",
       "      <td>fish</td>\n",
       "      <td>Medicine</td>\n",
       "      <td>1</td>\n",
       "      <td>2</td>\n",
       "      <td>50.00</td>\n",
       "    </tr>\n",
       "    <tr>\n",
       "      <th>33</th>\n",
       "      <td>fish</td>\n",
       "      <td>Food</td>\n",
       "      <td>1</td>\n",
       "      <td>2</td>\n",
       "      <td>50.00</td>\n",
       "    </tr>\n",
       "    <tr>\n",
       "      <th>20</th>\n",
       "      <td>fish</td>\n",
       "      <td>Snack</td>\n",
       "      <td>8</td>\n",
       "      <td>18</td>\n",
       "      <td>44.44</td>\n",
       "    </tr>\n",
       "    <tr>\n",
       "      <th>22</th>\n",
       "      <td>fish</td>\n",
       "      <td>Equipment</td>\n",
       "      <td>7</td>\n",
       "      <td>17</td>\n",
       "      <td>41.18</td>\n",
       "    </tr>\n",
       "    <tr>\n",
       "      <th>23</th>\n",
       "      <td>fish</td>\n",
       "      <td>Toys</td>\n",
       "      <td>7</td>\n",
       "      <td>18</td>\n",
       "      <td>38.89</td>\n",
       "    </tr>\n",
       "    <tr>\n",
       "      <th>39</th>\n",
       "      <td>fish</td>\n",
       "      <td>Clothes</td>\n",
       "      <td>0</td>\n",
       "      <td>2</td>\n",
       "      <td>0.00</td>\n",
       "    </tr>\n",
       "    <tr>\n",
       "      <th>40</th>\n",
       "      <td>fish</td>\n",
       "      <td>Accessory</td>\n",
       "      <td>0</td>\n",
       "      <td>3</td>\n",
       "      <td>0.00</td>\n",
       "    </tr>\n",
       "    <tr>\n",
       "      <th>41</th>\n",
       "      <td>fish</td>\n",
       "      <td>Grooming</td>\n",
       "      <td>0</td>\n",
       "      <td>2</td>\n",
       "      <td>0.00</td>\n",
       "    </tr>\n",
       "    <tr>\n",
       "      <th>43</th>\n",
       "      <td>fish</td>\n",
       "      <td>Bedding</td>\n",
       "      <td>0</td>\n",
       "      <td>2</td>\n",
       "      <td>0.00</td>\n",
       "    </tr>\n",
       "  </tbody>\n",
       "</table>\n",
       "</div>"
      ],
      "text/plain": [
       "   pet_type product_category  re_buy  total_buys  prcnt_rebuys\n",
       "29     bird          Bedding       1           2         50.00\n",
       "31     bird          Clothes       1           2         50.00\n",
       "34     bird        Accessory       1           2         50.00\n",
       "36     bird          Housing       1           2         50.00\n",
       "37     bird         Medicine       1           2         50.00\n",
       "38     bird      Supplements       1           2         50.00\n",
       "25     bird             Toys       7          17         41.18\n",
       "26     bird            Snack       7          17         41.18\n",
       "27     bird        Equipment       7          18         38.89\n",
       "35     bird             Food       1           3         33.33\n",
       "42     bird         Grooming       0           2          0.00\n",
       "7       cat             Food      18          33         54.55\n",
       "1       cat        Equipment      27          51         52.94\n",
       "14      cat          Clothes      10          19         52.63\n",
       "9       cat      Supplements      17          34         50.00\n",
       "17      cat        Accessory       9          18         50.00\n",
       "3       cat             Toys      25          51         49.02\n",
       "16      cat          Housing       9          19         47.37\n",
       "18      cat          Bedding       9          19         47.37\n",
       "10      cat         Medicine      15          34         44.12\n",
       "5       cat            Snack      19          50         38.00\n",
       "24      cat         Grooming       7          19         36.84\n",
       "11      dog          Bedding      14          19         73.68\n",
       "4       dog         Medicine      20          34         58.82\n",
       "13      dog         Grooming      10          18         55.56\n",
       "0       dog        Equipment      28          51         54.90\n",
       "15      dog        Accessory      10          19         52.63\n",
       "8       dog             Food      17          33         51.52\n",
       "2       dog            Snack      25          51         49.02\n",
       "19      dog          Housing       8          19         42.11\n",
       "21      dog          Clothes       8          19         42.11\n",
       "6       dog             Toys      19          51         37.25\n",
       "12      dog      Supplements      11          33         33.33\n",
       "28     fish          Housing       2           2        100.00\n",
       "30     fish      Supplements       1           2         50.00\n",
       "32     fish         Medicine       1           2         50.00\n",
       "33     fish             Food       1           2         50.00\n",
       "20     fish            Snack       8          18         44.44\n",
       "22     fish        Equipment       7          17         41.18\n",
       "23     fish             Toys       7          18         38.89\n",
       "39     fish          Clothes       0           2          0.00\n",
       "40     fish        Accessory       0           3          0.00\n",
       "41     fish         Grooming       0           2          0.00\n",
       "43     fish          Bedding       0           2          0.00"
      ]
     },
     "execution_count": 150,
     "metadata": {},
     "output_type": "execute_result"
    }
   ],
   "source": [
    "# Multiple purchased products by pet type\n",
    "\n",
    "repurchased_by_pet = pet_sales.groupby(['pet_type', 'product_category'])\\\n",
    "                                .agg({'re_buy':'sum','product_id':'count'}).rename(columns={'product_id':'total_buys'})\\\n",
    "                                .sort_values('re_buy',ascending=False).reset_index()\n",
    "\n",
    "# percent of re_buys from total buys by each pet type and product category\n",
    "repurchased_by_pet['prcnt_rebuys'] = round(100 * repurchased_by_pet.re_buy / repurchased_by_pet.total_buys, 2)\n",
    "\n",
    "repurchased_by_pet.sort_values(['pet_type','prcnt_rebuys'],ascending=[True,False])"
   ]
  },
  {
   "cell_type": "code",
   "execution_count": 110,
   "id": "df71b73f",
   "metadata": {},
   "outputs": [
    {
     "data": {
      "image/png": "[encoded data removed]",
      "text/plain": [
       "<Figure size 864x432 with 1 Axes>"
      ]
     },
     "metadata": {},
     "output_type": "display_data"
    }
   ],
   "source": [
    "# Visualize repurchased products by pet_type\n",
    "\n",
    "sns.barplot(data=repurchased_by_pet, x='product_category', y='re_buy', hue='pet_type')\n",
    "\n",
    "plt.ylabel('Repurchases')\n",
    "plt.xlabel(None)\n",
    "plt.title('Repurhases by Pet and Product Category')\n",
    "plt.show()"
   ]
  },
  {
   "cell_type": "code",
   "execution_count": 140,
   "id": "ac37518b",
   "metadata": {},
   "outputs": [
    {
     "data": {
      "image/png": "[encoded data removed]",
      "text/plain": [
       "<Figure size 864x432 with 1 Axes>"
      ]
     },
     "metadata": {},
     "output_type": "display_data"
    }
   ],
   "source": [
    "# Visualize repurchased products by pet_type\n",
    "\n",
    "ax = sns.barplot(data=repurchased_by_pet, x='product_category', y='prcnt_rebuys', hue='pet_type')\n",
    "\n",
    "ax.axhline(50, color=\"r\", marker='o', ls='--')\n",
    "plt.ylabel('Repurchases, %')\n",
    "plt.xlabel(None)\n",
    "plt.title('Percent of Repurchases Products by Pet and Product Category')\n",
    "plt.show()"
   ]
  },
  {
   "cell_type": "code",
   "execution_count": 178,
   "id": "298a845a",
   "metadata": {},
   "outputs": [
    {
     "data": {
      "text/html": [
       "<div>\n",
       "<style scoped>\n",
       "    .dataframe tbody tr th:only-of-type {\n",
       "        vertical-align: middle;\n",
       "    }\n",
       "\n",
       "    .dataframe tbody tr th {\n",
       "        vertical-align: top;\n",
       "    }\n",
       "\n",
       "    .dataframe thead th {\n",
       "        text-align: right;\n",
       "    }\n",
       "</style>\n",
       "<table border=\"1\" class=\"dataframe\">\n",
       "  <thead>\n",
       "    <tr style=\"text-align: right;\">\n",
       "      <th></th>\n",
       "      <th>pet_type</th>\n",
       "      <th>product_category</th>\n",
       "      <th>total_sales</th>\n",
       "    </tr>\n",
       "  </thead>\n",
       "  <tbody>\n",
       "    <tr>\n",
       "      <th>7</th>\n",
       "      <td>bird</td>\n",
       "      <td>Snack</td>\n",
       "      <td>1019000</td>\n",
       "    </tr>\n",
       "    <tr>\n",
       "      <th>3</th>\n",
       "      <td>bird</td>\n",
       "      <td>Equipment</td>\n",
       "      <td>952000</td>\n",
       "    </tr>\n",
       "    <tr>\n",
       "      <th>9</th>\n",
       "      <td>bird</td>\n",
       "      <td>Toys</td>\n",
       "      <td>539000</td>\n",
       "    </tr>\n",
       "    <tr>\n",
       "      <th>0</th>\n",
       "      <td>bird</td>\n",
       "      <td>Accessory</td>\n",
       "      <td>221000</td>\n",
       "    </tr>\n",
       "    <tr>\n",
       "      <th>2</th>\n",
       "      <td>bird</td>\n",
       "      <td>Clothes</td>\n",
       "      <td>196000</td>\n",
       "    </tr>\n",
       "    <tr>\n",
       "      <th>13</th>\n",
       "      <td>cat</td>\n",
       "      <td>Equipment</td>\n",
       "      <td>3485000</td>\n",
       "    </tr>\n",
       "    <tr>\n",
       "      <th>14</th>\n",
       "      <td>cat</td>\n",
       "      <td>Food</td>\n",
       "      <td>2451000</td>\n",
       "    </tr>\n",
       "    <tr>\n",
       "      <th>20</th>\n",
       "      <td>cat</td>\n",
       "      <td>Toys</td>\n",
       "      <td>2403000</td>\n",
       "    </tr>\n",
       "    <tr>\n",
       "      <th>18</th>\n",
       "      <td>cat</td>\n",
       "      <td>Snack</td>\n",
       "      <td>1778000</td>\n",
       "    </tr>\n",
       "    <tr>\n",
       "      <th>17</th>\n",
       "      <td>cat</td>\n",
       "      <td>Medicine</td>\n",
       "      <td>1758000</td>\n",
       "    </tr>\n",
       "    <tr>\n",
       "      <th>24</th>\n",
       "      <td>dog</td>\n",
       "      <td>Equipment</td>\n",
       "      <td>3317000</td>\n",
       "    </tr>\n",
       "    <tr>\n",
       "      <th>29</th>\n",
       "      <td>dog</td>\n",
       "      <td>Snack</td>\n",
       "      <td>3079000</td>\n",
       "    </tr>\n",
       "    <tr>\n",
       "      <th>28</th>\n",
       "      <td>dog</td>\n",
       "      <td>Medicine</td>\n",
       "      <td>2325000</td>\n",
       "    </tr>\n",
       "    <tr>\n",
       "      <th>31</th>\n",
       "      <td>dog</td>\n",
       "      <td>Toys</td>\n",
       "      <td>2000000</td>\n",
       "    </tr>\n",
       "    <tr>\n",
       "      <th>22</th>\n",
       "      <td>dog</td>\n",
       "      <td>Bedding</td>\n",
       "      <td>1691000</td>\n",
       "    </tr>\n",
       "    <tr>\n",
       "      <th>38</th>\n",
       "      <td>fish</td>\n",
       "      <td>Toys</td>\n",
       "      <td>992000</td>\n",
       "    </tr>\n",
       "    <tr>\n",
       "      <th>32</th>\n",
       "      <td>fish</td>\n",
       "      <td>Equipment</td>\n",
       "      <td>906000</td>\n",
       "    </tr>\n",
       "    <tr>\n",
       "      <th>36</th>\n",
       "      <td>fish</td>\n",
       "      <td>Snack</td>\n",
       "      <td>885000</td>\n",
       "    </tr>\n",
       "    <tr>\n",
       "      <th>34</th>\n",
       "      <td>fish</td>\n",
       "      <td>Housing</td>\n",
       "      <td>204000</td>\n",
       "    </tr>\n",
       "    <tr>\n",
       "      <th>35</th>\n",
       "      <td>fish</td>\n",
       "      <td>Medicine</td>\n",
       "      <td>188000</td>\n",
       "    </tr>\n",
       "  </tbody>\n",
       "</table>\n",
       "</div>"
      ],
      "text/plain": [
       "   pet_type product_category  total_sales\n",
       "7      bird            Snack      1019000\n",
       "3      bird        Equipment       952000\n",
       "9      bird             Toys       539000\n",
       "0      bird        Accessory       221000\n",
       "2      bird          Clothes       196000\n",
       "13      cat        Equipment      3485000\n",
       "14      cat             Food      2451000\n",
       "20      cat             Toys      2403000\n",
       "18      cat            Snack      1778000\n",
       "17      cat         Medicine      1758000\n",
       "24      dog        Equipment      3317000\n",
       "29      dog            Snack      3079000\n",
       "28      dog         Medicine      2325000\n",
       "31      dog             Toys      2000000\n",
       "22      dog          Bedding      1691000\n",
       "38     fish             Toys       992000\n",
       "32     fish        Equipment       906000\n",
       "36     fish            Snack       885000\n",
       "34     fish          Housing       204000\n",
       "35     fish         Medicine       188000"
      ]
     },
     "execution_count": 178,
     "metadata": {},
     "output_type": "execute_result"
    }
   ],
   "source": [
    "# Let's see on most popular repurchased product categories for each pet type by total sales\n",
    "total_sales_category = pet_sales.query(\"re_buy==1\").groupby(['pet_type','product_category'], as_index=False)\\\n",
    "                     .agg({'sales':'sum'})\\\n",
    "                     .rename(columns={'sales':'total_sales'})\\\n",
    "                     .sort_values(['pet_type','total_sales'], ascending=[True,False])\\\n",
    "                     .groupby('pet_type').head()\n",
    "\n",
    "total_sales_category"
   ]
  },
  {
   "cell_type": "code",
   "execution_count": 179,
   "id": "3502e679",
   "metadata": {},
   "outputs": [
    {
     "data": {
      "image/png": "[encoded data removed]",
      "text/plain": [
       "<Figure size 864x432 with 1 Axes>"
      ]
     },
     "metadata": {},
     "output_type": "display_data"
    }
   ],
   "source": [
    "# Most popular repurchased product categories by total sales for each pet type \n",
    "\n",
    "sns.barplot(data=total_sales_category, x='product_category', y='total_sales', hue='pet_type', ci=None)\n",
    "\n",
    "plt.xlabel(None)\n",
    "plt.title('Top 5 Best Selling Product Categories by Pet')\n",
    "plt.show()\n",
    "\n",
    "# Best selling categories for dogs and cats are equipment, snacks, toys, medicine and food\n",
    "# Best selling categories for birds and fishes are equipment, snacks and toys"
   ]
  },
  {
   "cell_type": "markdown",
   "id": "79c7d787",
   "metadata": {},
   "source": [
    "**What products are more likely to be purchased again for different types of pets?**\n",
    "\n",
    "Most likely to be purchased again (we assume > 50% of total purchases) products for:\n",
    "* Dogs - equipment (54.9% of repurchased items), medicine (58.82%), bedding (73.68%), grooming (55.56%), accessory (52.63%), food (51.52%) and snack (49.02%).\n",
    "* Cats - food (54.55%), equipment (52.94%), clothes (52.63%), supplements (50%), accessory (50%) and toys (49.02%).\n",
    "* Fish - housing (100%), supplements (50%), medicine (50%), food (50%), snack (44%).\n",
    "* Bird - bedding (100%), clothes (50%), accessory (50%), housing (50%), medicine (44%) and supplements (50%).\n",
    "\n",
    "But some of these most repurchased products don't bring the company enough revenue (see top 5 best selling categories graph), so I recommend to exclude: grooming, accessory, supplements and housing.\n",
    "\n",
    "Globally, I suggest the marketing team to focus on top-3 product categories for the pet box subscription: **equipment**, **snack** and **toys**. But also keep in mind bedding and medicine for dogs and food and medicine for cats, since these categories are very \"repurchaseable\" and they're in top-5 by sales."
   ]
  },
  {
   "cell_type": "markdown",
   "id": "c3daef72",
   "metadata": {},
   "source": [
    "# Bonus\n",
    "Let's check the most popular repurchased products for each pet type by total sales."
   ]
  },
  {
   "cell_type": "code",
   "execution_count": 193,
   "id": "0c012e10",
   "metadata": {},
   "outputs": [
    {
     "data": {
      "text/html": [
       "<div>\n",
       "<style scoped>\n",
       "    .dataframe tbody tr th:only-of-type {\n",
       "        vertical-align: middle;\n",
       "    }\n",
       "\n",
       "    .dataframe tbody tr th {\n",
       "        vertical-align: top;\n",
       "    }\n",
       "\n",
       "    .dataframe thead th {\n",
       "        text-align: right;\n",
       "    }\n",
       "</style>\n",
       "<table border=\"1\" class=\"dataframe\">\n",
       "  <thead>\n",
       "    <tr style=\"text-align: right;\">\n",
       "      <th></th>\n",
       "      <th>index</th>\n",
       "      <th>pet_type</th>\n",
       "      <th>product_category</th>\n",
       "      <th>product_id</th>\n",
       "      <th>total_sales</th>\n",
       "    </tr>\n",
       "  </thead>\n",
       "  <tbody>\n",
       "    <tr>\n",
       "      <th>0</th>\n",
       "      <td>0</td>\n",
       "      <td>bird</td>\n",
       "      <td>Accessory</td>\n",
       "      <td>4296</td>\n",
       "      <td>221000</td>\n",
       "    </tr>\n",
       "    <tr>\n",
       "      <th>1</th>\n",
       "      <td>8</td>\n",
       "      <td>bird</td>\n",
       "      <td>Equipment</td>\n",
       "      <td>5043</td>\n",
       "      <td>214000</td>\n",
       "    </tr>\n",
       "    <tr>\n",
       "      <th>2</th>\n",
       "      <td>17</td>\n",
       "      <td>bird</td>\n",
       "      <td>Snack</td>\n",
       "      <td>5035</td>\n",
       "      <td>198000</td>\n",
       "    </tr>\n",
       "    <tr>\n",
       "      <th>3</th>\n",
       "      <td>2</td>\n",
       "      <td>bird</td>\n",
       "      <td>Clothes</td>\n",
       "      <td>4212</td>\n",
       "      <td>196000</td>\n",
       "    </tr>\n",
       "    <tr>\n",
       "      <th>4</th>\n",
       "      <td>23</td>\n",
       "      <td>bird</td>\n",
       "      <td>Toys</td>\n",
       "      <td>5021</td>\n",
       "      <td>196000</td>\n",
       "    </tr>\n",
       "    <tr>\n",
       "      <th>5</th>\n",
       "      <td>114</td>\n",
       "      <td>cat</td>\n",
       "      <td>Housing</td>\n",
       "      <td>4599</td>\n",
       "      <td>230000</td>\n",
       "    </tr>\n",
       "    <tr>\n",
       "      <th>6</th>\n",
       "      <td>99</td>\n",
       "      <td>cat</td>\n",
       "      <td>Food</td>\n",
       "      <td>4749</td>\n",
       "      <td>229000</td>\n",
       "    </tr>\n",
       "    <tr>\n",
       "      <th>7</th>\n",
       "      <td>89</td>\n",
       "      <td>cat</td>\n",
       "      <td>Food</td>\n",
       "      <td>4583</td>\n",
       "      <td>228000</td>\n",
       "    </tr>\n",
       "    <tr>\n",
       "      <th>8</th>\n",
       "      <td>72</td>\n",
       "      <td>cat</td>\n",
       "      <td>Equipment</td>\n",
       "      <td>4803</td>\n",
       "      <td>226000</td>\n",
       "    </tr>\n",
       "    <tr>\n",
       "      <th>9</th>\n",
       "      <td>49</td>\n",
       "      <td>cat</td>\n",
       "      <td>Clothes</td>\n",
       "      <td>4443</td>\n",
       "      <td>225000</td>\n",
       "    </tr>\n",
       "    <tr>\n",
       "      <th>10</th>\n",
       "      <td>195</td>\n",
       "      <td>dog</td>\n",
       "      <td>Accessory</td>\n",
       "      <td>4362</td>\n",
       "      <td>229000</td>\n",
       "    </tr>\n",
       "    <tr>\n",
       "      <th>11</th>\n",
       "      <td>311</td>\n",
       "      <td>dog</td>\n",
       "      <td>Snack</td>\n",
       "      <td>4430</td>\n",
       "      <td>229000</td>\n",
       "    </tr>\n",
       "    <tr>\n",
       "      <th>12</th>\n",
       "      <td>254</td>\n",
       "      <td>dog</td>\n",
       "      <td>Food</td>\n",
       "      <td>4396</td>\n",
       "      <td>222000</td>\n",
       "    </tr>\n",
       "    <tr>\n",
       "      <th>13</th>\n",
       "      <td>193</td>\n",
       "      <td>dog</td>\n",
       "      <td>Accessory</td>\n",
       "      <td>4208</td>\n",
       "      <td>218000</td>\n",
       "    </tr>\n",
       "    <tr>\n",
       "      <th>14</th>\n",
       "      <td>247</td>\n",
       "      <td>dog</td>\n",
       "      <td>Equipment</td>\n",
       "      <td>4836</td>\n",
       "      <td>217000</td>\n",
       "    </tr>\n",
       "    <tr>\n",
       "      <th>15</th>\n",
       "      <td>376</td>\n",
       "      <td>fish</td>\n",
       "      <td>Snack</td>\n",
       "      <td>5020</td>\n",
       "      <td>226000</td>\n",
       "    </tr>\n",
       "    <tr>\n",
       "      <th>16</th>\n",
       "      <td>385</td>\n",
       "      <td>fish</td>\n",
       "      <td>Toys</td>\n",
       "      <td>5024</td>\n",
       "      <td>218000</td>\n",
       "    </tr>\n",
       "    <tr>\n",
       "      <th>17</th>\n",
       "      <td>369</td>\n",
       "      <td>fish</td>\n",
       "      <td>Equipment</td>\n",
       "      <td>5046</td>\n",
       "      <td>216000</td>\n",
       "    </tr>\n",
       "    <tr>\n",
       "      <th>18</th>\n",
       "      <td>365</td>\n",
       "      <td>fish</td>\n",
       "      <td>Equipment</td>\n",
       "      <td>5022</td>\n",
       "      <td>212000</td>\n",
       "    </tr>\n",
       "    <tr>\n",
       "      <th>19</th>\n",
       "      <td>387</td>\n",
       "      <td>fish</td>\n",
       "      <td>Toys</td>\n",
       "      <td>5036</td>\n",
       "      <td>200000</td>\n",
       "    </tr>\n",
       "  </tbody>\n",
       "</table>\n",
       "</div>"
      ],
      "text/plain": [
       "    index pet_type product_category  product_id  total_sales\n",
       "0       0     bird        Accessory        4296       221000\n",
       "1       8     bird        Equipment        5043       214000\n",
       "2      17     bird            Snack        5035       198000\n",
       "3       2     bird          Clothes        4212       196000\n",
       "4      23     bird             Toys        5021       196000\n",
       "5     114      cat          Housing        4599       230000\n",
       "6      99      cat             Food        4749       229000\n",
       "7      89      cat             Food        4583       228000\n",
       "8      72      cat        Equipment        4803       226000\n",
       "9      49      cat          Clothes        4443       225000\n",
       "10    195      dog        Accessory        4362       229000\n",
       "11    311      dog            Snack        4430       229000\n",
       "12    254      dog             Food        4396       222000\n",
       "13    193      dog        Accessory        4208       218000\n",
       "14    247      dog        Equipment        4836       217000\n",
       "15    376     fish            Snack        5020       226000\n",
       "16    385     fish             Toys        5024       218000\n",
       "17    369     fish        Equipment        5046       216000\n",
       "18    365     fish        Equipment        5022       212000\n",
       "19    387     fish             Toys        5036       200000"
      ]
     },
     "execution_count": 193,
     "metadata": {},
     "output_type": "execute_result"
    }
   ],
   "source": [
    "total_sales_products = pet_sales.query(\"re_buy==1\")\\\n",
    "                                .groupby(['pet_type','product_category','product_id'],as_index=False)\\\n",
    "                                .agg({'sales':'sum'}).rename(columns={'sales':'total_sales'})\\\n",
    "                                .sort_values(['pet_type','total_sales'],ascending=[True,False])\\\n",
    "                                .groupby('pet_type').head(5).reset_index()\n",
    "total_sales_products"
   ]
  },
  {
   "cell_type": "code",
   "execution_count": 206,
   "id": "bd8e89a4",
   "metadata": {},
   "outputs": [
    {
     "data": {
      "image/png": "[encoded data removed]",
      "text/plain": [
       "<Figure size 1440x576 with 1 Axes>"
      ]
     },
     "metadata": {},
     "output_type": "display_data"
    }
   ],
   "source": [
    "# Most popular repurchased products by total sales for each pet type \n",
    "\n",
    "fig,ax = plt.subplots()\n",
    "sns.barplot(data=total_sales_products, x='product_id', y='total_sales', hue='pet_type', ci=None, ax=ax)\n",
    "\n",
    "plt.rcParams[\"figure.figsize\"] = (20,8)\n",
    "plt.xlabel(None)\n",
    "plt.title('Top 5 Best Selling Repurchased Products by Pet')\n",
    "\n",
    "def change_width(ax, new_value) :\n",
    "    for patch in ax.patches :\n",
    "        current_width = patch.get_width()\n",
    "        diff = current_width - new_value\n",
    "        # we change the bar width\n",
    "        patch.set_width(new_value)\n",
    "        # we recenter the bar\n",
    "        patch.set_x(patch.get_x() + diff * .5)\n",
    "\n",
    "change_width(ax, .42)\n",
    "plt.show()"
   ]
  },
  {
   "cell_type": "markdown",
   "id": "a14106e0",
   "metadata": {},
   "source": [
    "The marketing team could also consider an option to make a special pet box subscription for each pet type with 5 most popular repurchased products.  \n",
    "For:\n",
    "* Dogs - products 4208, 4362, 4396, 4430 and 4836;\n",
    "* Cats - products 4443, 4583, 4599, 4749 and 4803;\n",
    "* Birds - products 4212, 4296, 5021, 5035 and 5043;\n",
    "* Fishes - products 5020, 5022, 5024, 5036 and 5046."
   ]
  },
  {
   "cell_type": "markdown",
   "id": "588cdeef",
   "metadata": {},
   "source": [
    "# Conclusion"
   ]
  },
  {
   "cell_type": "markdown",
   "id": "24a2b3b9",
   "metadata": {},
   "source": [
    "## How many products are being purchased more than once?\n",
    "There are **390** (**46.82 %**) products that were purchased more than once and **443** (**53.18 %**) products purchased once. So, more products were purchased only once."
   ]
  },
  {
   "cell_type": "markdown",
   "id": "d9f5ec1c",
   "metadata": {},
   "source": [
    "## Do the products being purchased again have better sales than others?\n",
    "We can't say that total sales of products being purchased again have better sales than others. Others sales equal **51 125 000** (**52.86%** of total sales) dollars, while multiple purchased products sales equal to **45 587 000** (**47.14%** of total sales). Though, **average sales per item is higher for multiple purchased products**, which makes sense.\n",
    "Statistical t-test and mann-whitney test supports this conclusion (there is no significant difference between sales in these two groups) with **significance level of 5%**."
   ]
  },
  {
   "cell_type": "markdown",
   "id": "7aff8f89",
   "metadata": {},
   "source": [
    "## What products are more likely to be purchased again for different types of pets?\n",
    "Top-3 most popular repurchased product categories are: **equipment**, **snack** and **toys**. So, I recommend the marketing team to focus on these product categories for the pet box subscription. But also keep in mind bedding and medicine for dogs and food and medicine for cats, since these categories are very \"repurchaseable\" and they're in top-5 by sales.\n",
    "\n",
    "The marketing team could also consider an option to make a special pet box subscription for each pet type with top-5 most popular repurchased products.\n",
    "For:\n",
    "* Dogs - products 4208, 4362, 4396, 4430 and 4836;\n",
    "* Cats - products 4443, 4583, 4599, 4749 and 4803;\n",
    "* Birds - products 4212, 4296, 5021, 5035 and 5043;\n",
    "* Fishes - products 5020, 5022, 5024, 5036 and 5046.\n",
    "\n",
    "Also, I suggest to perform further analysis of customer behavior to make special offers for different user segments."
   ]
  },
  {
   "cell_type": "markdown",
   "id": "d15c51ec",
   "metadata": {},
   "source": [
    "Fin."
   ]
  }
 ],
 "metadata": {
  "kernelspec": {
   "display_name": "Python 3 (ipykernel)",
   "language": "python",
   "name": "python3"
  },
  "language_info": {
   "codemirror_mode": {
    "name": "ipython",
    "version": 3
   },
   "file_extension": ".py",
   "mimetype": "text/x-python",
   "name": "python",
   "nbconvert_exporter": "python",
   "pygments_lexer": "ipython3",
   "version": "3.9.12"
  }
 },
 "nbformat": 4,
 "nbformat_minor": 5
}
